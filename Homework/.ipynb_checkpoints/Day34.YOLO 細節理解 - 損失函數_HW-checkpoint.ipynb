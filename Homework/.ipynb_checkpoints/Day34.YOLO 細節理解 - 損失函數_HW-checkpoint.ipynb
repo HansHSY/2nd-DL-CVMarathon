{
 "cells": [
  {
   "cell_type": "markdown",
   "metadata": {
    "colab_type": "text",
    "id": "Bnmm4e85ZBf2"
   },
   "source": [
    "## Day34.YOLO 細節理解 - 損失函數\n",
    "今天的課程，我們講述了\n",
    "* 損失函數是描述模型預測出來的結果和實際的差異的依據    \n",
    "* YOLO 損失函數的設計包含物件位置的定位與物件類別辨識    \n",
    "* YOLO損失函數透過超參數設定模型有不同的辨識能力    \n",
    "\n"
   ]
  },
  {
   "cell_type": "markdown",
   "metadata": {
    "colab_type": "text",
    "id": "exUoZwe5ZBf9"
   },
   "source": [
    "### 作業\n",
    "仔細觀察，bbox 寬高計算損失方式和bbox中心計算損失方式有哪邊不一樣嗎? 為什麼要有不同的設計?\n",
    "![title](loss function.png)\n",
    "\n"
   ]
  },
  {
   "cell_type": "code",
   "execution_count": 1,
   "metadata": {
    "colab": {
     "base_uri": "https://localhost:8080/",
     "height": 34
    },
    "colab_type": "code",
    "executionInfo": {
     "elapsed": 2077,
     "status": "ok",
     "timestamp": 1578021189565,
     "user": {
      "displayName": "Mora chen",
      "photoUrl": "https://lh3.googleusercontent.com/a-/AAuE7mB40f7sDArbZ5_DYq02nNcnLD0Ryaf7AhsASSQeLQ=s64",
      "userId": "03171203089166907199"
     },
     "user_tz": -480
    },
    "id": "8rmQogtPZBf_",
    "outputId": "3259b864-defa-4325-cf44-b0a269d6f1dc"
   },
   "outputs": [
    {
     "data": {
      "text/plain": [
       "'\\n1.bbox中心計算損失方式 : [Sum of square error (SSE)]\\n\\n2.bbox 寬高計算損失方式 :  [(bbox 寬)^1/2 - (bbox 寬預估值)^1/2]^2 + [(bbox 高)^1/2 - (bbox 高預估值)^1/2]^2\\n\\n先開根號,讓值變小後再進行 [Sum of square error (SSE)]\\n\\n兩者差異:開根號後執行 [Sum of square error (SSE)]\\n\\n*********************************************************\\n\\n不同的設計==> bbox 寬高值較大,根號處理,可以減少預估誤差\\n\\n'"
      ]
     },
     "execution_count": 1,
     "metadata": {},
     "output_type": "execute_result"
    }
   ],
   "source": [
    "'''\n",
    "1.bbox中心計算損失方式 : [Sum of square error (SSE)]\n",
    "\n",
    "2.bbox 寬高計算損失方式 :  [(bbox 寬)^1/2 - (bbox 寬預估值)^1/2]^2 + [(bbox 高)^1/2 - (bbox 高預估值)^1/2]^2\n",
    "\n",
    "先開根號,讓值變小後再進行 [Sum of square error (SSE)]\n",
    "\n",
    "兩者差異:開根號後執行 [Sum of square error (SSE)]\n",
    "\n",
    "*********************************************************\n",
    "\n",
    "不同的設計==> bbox 寬高值較大,根號處理,可以減少預估誤差\n",
    "\n",
    "'''"
   ]
  },
  {
   "cell_type": "code",
   "execution_count": null,
   "metadata": {},
   "outputs": [],
   "source": []
  }
 ],
 "metadata": {
  "colab": {
   "name": "Day34.YOLO 細節理解 - 損失函數_HW.ipynb",
   "provenance": []
  },
  "kernelspec": {
   "display_name": "Python 3",
   "language": "python",
   "name": "python3"
  },
  "language_info": {
   "codemirror_mode": {
    "name": "ipython",
    "version": 3
   },
   "file_extension": ".py",
   "mimetype": "text/x-python",
   "name": "python",
   "nbconvert_exporter": "python",
   "pygments_lexer": "ipython3",
   "version": "3.6.6"
  }
 },
 "nbformat": 4,
 "nbformat_minor": 1
}
