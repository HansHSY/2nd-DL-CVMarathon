{
 "cells": [
  {
   "cell_type": "markdown",
   "metadata": {},
   "source": [
    "## 『作業內容』\n",
    "####   依照指示，搭建Maxpooling層與全連接層"
   ]
  },
  {
   "cell_type": "markdown",
   "metadata": {},
   "source": [
    "## 『目標』\n",
    "####   了解Maxpooling的原理與CNN、FC層連結的方式"
   ]
  },
  {
   "cell_type": "code",
   "execution_count": 1,
   "metadata": {},
   "outputs": [],
   "source": [
    "import tensorflow as tf\n",
    "from tensorflow import keras\n",
    "from tensorflow.keras import layers"
   ]
  },
  {
   "cell_type": "code",
   "execution_count": 8,
   "metadata": {},
   "outputs": [
    {
     "name": "stdout",
     "output_type": "stream",
     "text": [
      "Model: \"model_1\"\n",
      "_________________________________________________________________\n",
      "Layer (type)                 Output Shape              Param #   \n",
      "=================================================================\n",
      "input_6 (InputLayer)         [(None, 32, 32, 3)]       0         \n",
      "_________________________________________________________________\n",
      "conv2d_17 (Conv2D)           (None, 32, 32, 32)        896       \n",
      "_________________________________________________________________\n",
      "max_pooling2d_12 (MaxPooling (None, 16, 16, 32)        0         \n",
      "_________________________________________________________________\n",
      "conv2d_18 (Conv2D)           (None, 16, 16, 64)        18496     \n",
      "_________________________________________________________________\n",
      "max_pooling2d_13 (MaxPooling (None, 8, 8, 64)          0         \n",
      "_________________________________________________________________\n",
      "conv2d_19 (Conv2D)           (None, 8, 8, 128)         73856     \n",
      "_________________________________________________________________\n",
      "max_pooling2d_14 (MaxPooling (None, 4, 4, 128)         0         \n",
      "_________________________________________________________________\n",
      "conv2d_20 (Conv2D)           (None, 4, 4, 10)          11530     \n",
      "_________________________________________________________________\n",
      "flatten_4 (Flatten)          (None, 160)               0         \n",
      "_________________________________________________________________\n",
      "dense_4 (Dense)              (None, 28)                4508      \n",
      "=================================================================\n",
      "Total params: 109,286\n",
      "Trainable params: 109,286\n",
      "Non-trainable params: 0\n",
      "_________________________________________________________________\n"
     ]
    }
   ],
   "source": [
    "\n",
    "inputs=keras.Input(shape=(32, 32, 3))\n",
    "x=layers.Conv2D(32, kernel_size=(3, 3), padding='same')(inputs)\n",
    "x=layers.MaxPool2D(pool_size=(2, 2),strides=(2,2))(x)\n",
    "\n",
    "x=layers.Conv2D(64, kernel_size=(3, 3), padding='same')(x)\n",
    "x=layers.MaxPool2D(pool_size=(2, 2),strides=(2,2))(x)##pooling_size=2,2 strides=2,2\n",
    "\n",
    "x=layers.Conv2D(128, kernel_size=(3, 3), padding='same')(x)\n",
    "x=layers.MaxPool2D(pool_size=(2, 2),strides=(2,2))(x)##pooling_size=1,1 strides=1,1 \n",
    "\n",
    "x=layers.Conv2D(10, kernel_size=(3, 3), padding='same')(x)\n",
    "x=layers.Flatten()(x)\n",
    "\n",
    "outputs=layers.Dense(28)(x)\n",
    "\n",
    "\n",
    "model_1=keras.Model(inputs,outputs,name='model_1')\n",
    "model_1.summary()"
   ]
  },
  {
   "cell_type": "code",
   "execution_count": 9,
   "metadata": {},
   "outputs": [
    {
     "name": "stdout",
     "output_type": "stream",
     "text": [
      "Model: \"model_2\"\n",
      "_________________________________________________________________\n",
      "Layer (type)                 Output Shape              Param #   \n",
      "=================================================================\n",
      "input_7 (InputLayer)         [(None, 32, 32, 3)]       0         \n",
      "_________________________________________________________________\n",
      "conv2d_21 (Conv2D)           (None, 32, 32, 32)        896       \n",
      "_________________________________________________________________\n",
      "max_pooling2d_15 (MaxPooling (None, 16, 16, 32)        0         \n",
      "_________________________________________________________________\n",
      "conv2d_22 (Conv2D)           (None, 16, 16, 64)        18496     \n",
      "_________________________________________________________________\n",
      "max_pooling2d_16 (MaxPooling (None, 8, 8, 64)          0         \n",
      "_________________________________________________________________\n",
      "conv2d_23 (Conv2D)           (None, 8, 8, 128)         73856     \n",
      "_________________________________________________________________\n",
      "max_pooling2d_17 (MaxPooling (None, 8, 8, 128)         0         \n",
      "_________________________________________________________________\n",
      "conv2d_24 (Conv2D)           (None, 8, 8, 10)          11530     \n",
      "_________________________________________________________________\n",
      "flatten_5 (Flatten)          (None, 640)               0         \n",
      "_________________________________________________________________\n",
      "dense_5 (Dense)              (None, 28)                17948     \n",
      "=================================================================\n",
      "Total params: 122,726\n",
      "Trainable params: 122,726\n",
      "Non-trainable params: 0\n",
      "_________________________________________________________________\n"
     ]
    }
   ],
   "source": [
    "inputs=keras.Input(shape=(32, 32, 3))\n",
    "x=layers.Conv2D(32, kernel_size=(3, 3), padding='same')(inputs)\n",
    "x=layers.MaxPool2D(pool_size=(2, 2),strides=(2,2))(x)\n",
    "\n",
    "x=layers.Conv2D(64, kernel_size=(3, 3), padding='same')(x)\n",
    "x=layers.MaxPool2D(pool_size=(2, 2),strides=(2,2))(x)##pooling_size=2,2 strides=2,2\n",
    "\n",
    "x=layers.Conv2D(128, kernel_size=(3, 3), padding='same')(x)\n",
    "x=layers.MaxPool2D(pool_size=(1, 1),strides=(1,1))(x)##pooling_size=1,1 strides=1,1 \n",
    "\n",
    "x=layers.Conv2D(10, kernel_size=(3, 3), padding='same')(x)\n",
    "x=layers.Flatten()(x)\n",
    "\n",
    "outputs=layers.Dense(28)(x)\n",
    "\n",
    "\n",
    "model_2=keras.Model(inputs,outputs,name='model_2')\n",
    "model_2.summary()"
   ]
  },
  {
   "cell_type": "code",
   "execution_count": 11,
   "metadata": {},
   "outputs": [
    {
     "name": "stdout",
     "output_type": "stream",
     "text": [
      "Model: \"model_3\"\n",
      "_________________________________________________________________\n",
      "Layer (type)                 Output Shape              Param #   \n",
      "=================================================================\n",
      "input_9 (InputLayer)         [(None, 32, 32, 3)]       0         \n",
      "_________________________________________________________________\n",
      "conv2d_29 (Conv2D)           (None, 32, 32, 32)        896       \n",
      "_________________________________________________________________\n",
      "max_pooling2d_21 (MaxPooling (None, 16, 16, 32)        0         \n",
      "_________________________________________________________________\n",
      "conv2d_30 (Conv2D)           (None, 16, 16, 64)        18496     \n",
      "_________________________________________________________________\n",
      "max_pooling2d_22 (MaxPooling (None, 8, 8, 64)          0         \n",
      "_________________________________________________________________\n",
      "conv2d_31 (Conv2D)           (None, 8, 8, 128)         73856     \n",
      "_________________________________________________________________\n",
      "max_pooling2d_23 (MaxPooling (None, 4, 4, 128)         0         \n",
      "_________________________________________________________________\n",
      "conv2d_32 (Conv2D)           (None, 4, 4, 10)          11530     \n",
      "_________________________________________________________________\n",
      "global_average_pooling2d_1 ( (None, 10)                0         \n",
      "_________________________________________________________________\n",
      "dense_7 (Dense)              (None, 28)                308       \n",
      "=================================================================\n",
      "Total params: 105,086\n",
      "Trainable params: 105,086\n",
      "Non-trainable params: 0\n",
      "_________________________________________________________________\n"
     ]
    }
   ],
   "source": [
    "inputs=keras.Input(shape=(32, 32, 3))\n",
    "x=layers.Conv2D(32, kernel_size=(3, 3), padding='same')(inputs)\n",
    "x=layers.MaxPool2D(pool_size=(2, 2),strides=(2,2))(x)\n",
    "\n",
    "x=layers.Conv2D(64, kernel_size=(3, 3), padding='same')(x)\n",
    "x=layers.MaxPool2D(pool_size=(2, 2),strides=(2,2))(x)##pooling_size=2,2 strides=2,2\n",
    "\n",
    "x=layers.Conv2D(128, kernel_size=(3, 3), padding='same')(x)\n",
    "x=layers.MaxPool2D(pool_size=(2, 2),strides=(2,2))(x)##pooling_size=1,1 strides=1,1 \n",
    "\n",
    "x=layers.Conv2D(10, kernel_size=(3, 3), padding='same')(x)\n",
    "x=layers.GlobalAveragePooling2D()(x)\n",
    "\n",
    "outputs=layers.Dense(28)(x)\n",
    "\n",
    "\n",
    "model_3=keras.Model(inputs,outputs,name='model_3')\n",
    "model_3.summary()"
   ]
  },
  {
   "cell_type": "markdown",
   "metadata": {
    "colab": {},
    "colab_type": "code",
    "id": "43xxX0yJxiDr"
   },
   "source": [
    "#題目\n",
    "input_shape = (32, 32, 3)\n",
    "\n",
    "model = Sequential()\n",
    "\n",
    "model.add(Conv2D(32, kernel_size=(3, 3), padding='same',input_shape=input_shape))\n",
    "model.add(MaxPooling2D())  ##pooling_size=2,2 strides=2,2 輸出feature map 大小為多少？\n",
    "\n",
    "model.add(Conv2D(64, kernel_size=(3, 3), padding='same'))\n",
    "model.add(MaxPooling2D())##pooling_size=2,2 strides=2,2 輸出feature map 大小為多少？\n",
    "\n",
    "model.add(Conv2D(128, kernel_size=(3, 3), padding='same'))\n",
    "model.add(MaxPooling2D())##pooling_size=1,1 strides=1,1 輸出feature map 大小為多少？\n",
    "\n",
    "model.add(Conv2D(10, kernel_size=(3, 3), padding='same'))\n",
    "model.add(Flatten()) ##Flatten完尺寸如何變化？\n",
    "#model.add(GlobalAveragePooling2D()) #關掉Flatten，使用GlobalAveragePooling2D，完尺寸如何變化？\n",
    "\n",
    "model.add(Dense()) ##全連接層使用28個units"
   ]
  }
 ],
 "metadata": {
  "colab": {
   "name": "池化、全連接層.ipynb",
   "provenance": []
  },
  "kernelspec": {
   "display_name": "Python 3",
   "language": "python",
   "name": "python3"
  },
  "language_info": {
   "codemirror_mode": {
    "name": "ipython",
    "version": 3
   },
   "file_extension": ".py",
   "mimetype": "text/x-python",
   "name": "python",
   "nbconvert_exporter": "python",
   "pygments_lexer": "ipython3",
   "version": "3.5.6"
  }
 },
 "nbformat": 4,
 "nbformat_minor": 1
}
